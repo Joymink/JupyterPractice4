{
 "cells": [
  {
   "cell_type": "markdown",
   "metadata": {},
   "source": [
    "# Object-Oriented-Programming (OOP)"
   ]
  },
  {
   "cell_type": "markdown",
   "metadata": {},
   "source": [
    "## Tasks Today:\n",
    "\n",
    "   \n",
    "\n",
    "1) <b>Creating a Class (Initializing/Declaring)</b> <br>\n",
    "2) <b>Using a Class (Instantiating)</b> <br>\n",
    " &nbsp;&nbsp;&nbsp;&nbsp; a) Creating One Instance <br>\n",
    " &nbsp;&nbsp;&nbsp;&nbsp; b) Creating Multiple Instances <br>\n",
    " &nbsp;&nbsp;&nbsp;&nbsp; c) In-Class Exercise #1 - Create a Class 'Car' and instantiate three different makes of cars <br>\n",
    "3) <b>The \\__init\\__() Method</b> <br>\n",
    " &nbsp;&nbsp;&nbsp;&nbsp; a) The 'self' Attribute <br>\n",
    "4) <b>Class Attributes</b> <br>\n",
    " &nbsp;&nbsp;&nbsp;&nbsp; a) Initializing Attributes <br>\n",
    " &nbsp;&nbsp;&nbsp;&nbsp; b) Setting an Attribute Outside of the \\__init\\__() Method <br>\n",
    " &nbsp;&nbsp;&nbsp;&nbsp; c) Setting Defaults for Attributes <br>\n",
    " &nbsp;&nbsp;&nbsp;&nbsp; d) Accessing Class Attributes <br>\n",
    " &nbsp;&nbsp;&nbsp;&nbsp; e) Changing Class Attributes <br>\n",
    " &nbsp;&nbsp;&nbsp;&nbsp; f) In-Class Exercise #2 - Add a color and wheels attribute to your 'Car' class <br>\n",
    "5) <b>Class Methods</b> <br>\n",
    " &nbsp;&nbsp;&nbsp;&nbsp; a) Creating <br>\n",
    " &nbsp;&nbsp;&nbsp;&nbsp; b) Calling <br>\n",
    " &nbsp;&nbsp;&nbsp;&nbsp; c) Modifying an Attribute's Value Through a Method <br>\n",
    " &nbsp;&nbsp;&nbsp;&nbsp; d) Incrementing an Attribute's Value Through a Method <br>\n",
    " &nbsp;&nbsp;&nbsp;&nbsp; e) In-Class Exercise #3 - Add a method that prints the cars color and wheel number, then call them <br>\n",
    "6) <b>Inheritance</b> <br>\n",
    " &nbsp;&nbsp;&nbsp;&nbsp; a) Syntax for Inheriting from a Parent Class <br>\n",
    " &nbsp;&nbsp;&nbsp;&nbsp; b) The \\__init\\__() Method for a Child Class (super()) <br>\n",
    " &nbsp;&nbsp;&nbsp;&nbsp; c) Defining Attributes and Methods for the Child Class <br>\n",
    " &nbsp;&nbsp;&nbsp;&nbsp; d) Method Overriding <br>\n",
    " &nbsp;&nbsp;&nbsp;&nbsp; e) In-Class Exercise #4 - Create a class 'Ford' that inherits from 'Car' class and initialize it as a Blue Ford Explorer with 4 wheels using the super() method <br>\n",
    "7) <b>Classes as Attributes</b> <br>\n",
    "8) <b>Exercises</b> <br>\n",
    " &nbsp;&nbsp;&nbsp;&nbsp; a) Exercise #1 - Turn the shopping cart program from yesterday into an object-oriented program <br>"
   ]
  },
  {
   "cell_type": "markdown",
   "metadata": {},
   "source": [
    "## Creating a Class (Initializing/Declaring)\n",
    "<p>When creating a class, function, or even a variable you are initializing that object. Initializing and Declaring occur at the same time in Python, whereas in lower level languages you have to declare an object before initializing it. This is the first step in the process of using a class.</p>"
   ]
  },
  {
   "cell_type": "code",
   "execution_count": 2,
   "metadata": {},
   "outputs": [],
   "source": [
    "class Car(): #notice a class is capitalized, proper formatting\n",
    "    wheels = 4\n",
    "    color = 'blue'"
   ]
  },
  {
   "cell_type": "markdown",
   "metadata": {},
   "source": [
    "## Using a Class (Instantiating)\n",
    "<p>The process of creating a class is called <i>Instantiating</i>. Each time you create a variable of that type of class, it is referred to as an <i>Instance</i> of that class. This is the second step in the process of using a class.</p>"
   ]
  },
  {
   "cell_type": "markdown",
   "metadata": {},
   "source": [
    "##### Creating One Instance"
   ]
  },
  {
   "cell_type": "code",
   "execution_count": 7,
   "metadata": {},
   "outputs": [
    {
     "name": "stdout",
     "output_type": "stream",
     "text": [
      "blue\n"
     ]
    }
   ],
   "source": [
    "ford = Car()\n",
    "\n",
    "print(ford.color)"
   ]
  },
  {
   "cell_type": "markdown",
   "metadata": {},
   "source": [
    "##### Creating Multiple Instances"
   ]
  },
  {
   "cell_type": "code",
   "execution_count": 9,
   "metadata": {},
   "outputs": [
    {
     "name": "stdout",
     "output_type": "stream",
     "text": [
      "<class '__main__.Car'>\n"
     ]
    }
   ],
   "source": [
    "chevrolet = Car()\n",
    "porshe = Car()\n",
    "lamborghini = Car()\n",
    "\n",
    "print(type(porshe))\n"
   ]
  },
  {
   "cell_type": "markdown",
   "metadata": {},
   "source": [
    "##### In-Class Exercise #1 - Create a Class 'Car' and Instantiate three different makes of cars"
   ]
  },
  {
   "cell_type": "code",
   "execution_count": 15,
   "metadata": {},
   "outputs": [
    {
     "name": "stdout",
     "output_type": "stream",
     "text": [
      "4\n",
      "<class 'tuple'>\n",
      "2023\n"
     ]
    }
   ],
   "source": [
    "class Car():\n",
    "    doors = 4\n",
    "    color =\"Chrome\"\n",
    "    engine = (\"V\", 8)\n",
    "    wheels = 4\n",
    "    year =2023\n",
    "    price = 49999.99\n",
    "\n",
    "    \n",
    "mustang = Car()\n",
    "ferrari = Car()\n",
    "bentley = Car()\n",
    "\n",
    "print(mustang.doors)\n",
    "print(type(ferrari.engine))\n",
    "print(bentley.year)"
   ]
  },
  {
   "cell_type": "markdown",
   "metadata": {},
   "source": [
    "## The \\__init\\__() Method <br>\n",
    "<p>This method is used in almost every created class, and called only once upon the creation of the class instance. This method will initialize all variables needed for the object.</p>"
   ]
  },
  {
   "cell_type": "code",
   "execution_count": 21,
   "metadata": {},
   "outputs": [
    {
     "name": "stdout",
     "output_type": "stream",
     "text": [
      "black\n",
      "6\n"
     ]
    }
   ],
   "source": [
    "class Car():\n",
    "    engine = \"4.7L\" #Glabal within class - any method insisde the class can call upon variable\n",
    "    \n",
    "    def __init__(self,color, wheels):#has to be double underscore and init on each side, already has the code for you\n",
    "        self.color = color\n",
    "        self.wheels = wheels\n",
    "    \n",
    "mazda = Car('black', 4)\n",
    "subaru = Car('blue', 6)\n",
    "\n",
    "print(mazda.color)\n",
    "print(subaru.wheels)"
   ]
  },
  {
   "cell_type": "markdown",
   "metadata": {},
   "source": [
    "##### The 'self' Attribute <br>\n",
    "<p>This attribute is required to keep track of specific instance's attributes. Without the self attribute, the program would not know how to reference or keep track of an instance's attributes.</p>"
   ]
  },
  {
   "cell_type": "code",
   "execution_count": null,
   "metadata": {},
   "outputs": [],
   "source": [
    "# see above"
   ]
  },
  {
   "cell_type": "markdown",
   "metadata": {},
   "source": [
    "## Class Attributes <br>\n",
    "<p>While variables are inside of a class, they are referred to as attributes and not variables. When someone says 'attribute' you know they're speaking about a class. Attributes can be initialized through the init method, or outside of it.</p>"
   ]
  },
  {
   "cell_type": "markdown",
   "metadata": {},
   "source": [
    "##### Initializing Attributes"
   ]
  },
  {
   "cell_type": "code",
   "execution_count": 23,
   "metadata": {},
   "outputs": [],
   "source": [
    "# see above\n",
    "\n",
    "class Toy():\n",
    "    kind= 'car' #this is called a constant\n",
    "    \n",
    "    def __init__(self, rooftop, horn, wheels):\n",
    "        self.rooftop = rooftop #These are artibutes\n",
    "        self.horn=horn\n",
    "        self.wheels=wheels\n",
    "        \n",
    "\n",
    "tonka_truck = Toy(1,1,4)\n",
    "hotwheels_car = Toy(2,3,8)"
   ]
  },
  {
   "cell_type": "markdown",
   "metadata": {},
   "source": [
    "##### Accessing Class Attributes"
   ]
  },
  {
   "cell_type": "code",
   "execution_count": 26,
   "metadata": {
    "scrolled": true
   },
   "outputs": [
    {
     "data": {
      "text/plain": [
       "8"
      ]
     },
     "execution_count": 26,
     "metadata": {},
     "output_type": "execute_result"
    }
   ],
   "source": [
    "# See Above\n",
    "tonka_truck.rooftop\n",
    "hotwheels_car.wheels\n"
   ]
  },
  {
   "cell_type": "markdown",
   "metadata": {},
   "source": [
    "##### Setting Defaults for Attributes"
   ]
  },
  {
   "cell_type": "code",
   "execution_count": 33,
   "metadata": {},
   "outputs": [
    {
     "data": {
      "text/plain": [
       "4"
      ]
     },
     "execution_count": 33,
     "metadata": {},
     "output_type": "execute_result"
    }
   ],
   "source": [
    "class Car():\n",
    "    engine= '4.7L'\n",
    "    \n",
    "    def __init__(self,wheels,doors=4,seats=4):\n",
    "        self.wheels=wheels\n",
    "        self.color = 'Blue'\n",
    "        self.doors=doors\n",
    "        self.seats=seats\n",
    "        \n",
    "honda=Car(4)\n",
    "honda.color\n",
    "honda.doors"
   ]
  },
  {
   "cell_type": "markdown",
   "metadata": {},
   "source": [
    "##### Changing Class Attributes <br>\n",
    "<p>Keep in mind there are global class attributes and then there are attributes only available to each class instance which won't effect other classes.</p>"
   ]
  },
  {
   "cell_type": "code",
   "execution_count": 28,
   "metadata": {},
   "outputs": [
    {
     "name": "stdout",
     "output_type": "stream",
     "text": [
      "Before Change: Blue\n",
      "white\n"
     ]
    }
   ],
   "source": [
    "jeep = Car(8)\n",
    "\n",
    "print(f'Before Change: {jeep.color}')\n",
    "\n",
    "jeep.color = \"white\"\n",
    "\n",
    "print(jeep.color)"
   ]
  },
  {
   "cell_type": "code",
   "execution_count": 39,
   "metadata": {},
   "outputs": [
    {
     "name": "stdout",
     "output_type": "stream",
     "text": [
      "4\n",
      "2\n",
      "1\n"
     ]
    }
   ],
   "source": [
    "camaro=Car(4,2,4)\n",
    "\n",
    "print(toyota.doors)\n",
    "\n",
    "print(camaro.doors)\n",
    "\n",
    "camaro.doors=1\n",
    "print(camaro.doors)"
   ]
  },
  {
   "cell_type": "markdown",
   "metadata": {},
   "source": [
    "##### In-Class Exercise #2 - Add a doors and seats attribute to your 'Car' class then print out two different instances with different doors and seats"
   ]
  },
  {
   "cell_type": "code",
   "execution_count": 40,
   "metadata": {},
   "outputs": [
    {
     "name": "stdout",
     "output_type": "stream",
     "text": [
      "Hoe many doors before 2\n",
      "How many seats before 4\n",
      "Hoe many doors before 4\n",
      "How many seats before 4\n",
      "How many doors after 1\n",
      "How many seast after 2\n",
      "Hoe many doors after 6\n",
      "How many seats after 5\n"
     ]
    }
   ],
   "source": [
    "camaro=Car(4,2,4)\n",
    "toyota= Car(4)\n",
    "print(f'Hoe many doors before {camaro.doors}')\n",
    "print(f'How many seats before {camaro.seats}')\n",
    "print(f'Hoe many doors before {toyota.doors}')\n",
    "print(f'How many seats before {toyota.seats}')\n",
    "\n",
    "camaro.doors=1\n",
    "camaro.seats = 2\n",
    "toyota.doors = 6\n",
    "toyota.seats= 5\n",
    "\n",
    "print(f'How many doors after {camaro.doors}')\n",
    "print(f'How many seast after {camaro.seats}')\n",
    "print(f'Hoe many doors after {toyota.doors}')\n",
    "print(f'How many seats after {toyota.seats}')"
   ]
  },
  {
   "cell_type": "markdown",
   "metadata": {},
   "source": [
    "## Class Methods <br>\n",
    "<p>While inside of a class, functions are referred to as 'methods'. If you hear someone mention methods, they're speaking about classes. Methods are essentially functions, but only callable on the instances of a class.</p>"
   ]
  },
  {
   "cell_type": "markdown",
   "metadata": {},
   "source": [
    "##### Creating"
   ]
  },
  {
   "cell_type": "code",
   "execution_count": 1,
   "metadata": {},
   "outputs": [],
   "source": [
    "class ShoppingBag():\n",
    "    \"\"\"\n",
    "        The ShoppingBag Class will have handles,capacity,\n",
    "        and items to place inside.\n",
    "        \n",
    "        Attributes for the class:\n",
    "        -handles: expected to be an integer\n",
    "        -capacity: expected to be a string or an integer\n",
    "        -items:expected to be a list\n",
    "        \n",
    "    \"\"\"\n",
    "    def __init__(self,handles,capacity,items=[]):\n",
    "        self.handles=handles\n",
    "        self.capacity=capacity\n",
    "        self.items=items\n",
    "        \n",
    "    def showShoppingBag(self):\n",
    "        print(\"You have items in your bag!\")\n",
    "        for item in self.items:\n",
    "            print(item)\n",
    "    def showCapacity(self):\n",
    "        print(f'Your capacity is: {self.capacity}')\n",
    "        \n",
    "    def addToShoppingBag(self):\n",
    "        products = input('What woudl you like to add? ')\n",
    "        self.items.append(products)\n",
    "    \n",
    "    def changeBagCapacity(self, capacity):\n",
    "        self.capacity = capacity\n",
    "        \n",
    "    def increaseCapacity(self, change_capacity =10):\n",
    "        if self.capacity== isinstance(self.capacity, str):\n",
    "            print(\"We can't add that here\")\n",
    "        else:\n",
    "            self.capacity+= change_capacity\n",
    "        "
   ]
  },
  {
   "cell_type": "markdown",
   "metadata": {},
   "source": [
    "##### Calling"
   ]
  },
  {
   "cell_type": "code",
   "execution_count": 2,
   "metadata": {},
   "outputs": [
    {
     "name": "stdout",
     "output_type": "stream",
     "text": [
      "What do you want to do? add/show/quit quit\n",
      "You have items in your bag!\n",
      "Thanks for shopping\n"
     ]
    }
   ],
   "source": [
    "# See Above\n",
    "\n",
    "wholeFoods_bag = ShoppingBag(2,10)\n",
    "\n",
    "def run():\n",
    "    while True:\n",
    "        response = input(\"What do you want to do? add/show/quit \")\n",
    "        \n",
    "        if response.lower() == 'quit':\n",
    "            wholeFoods_bag.showShoppingBag()\n",
    "            print('Thanks for shopping')\n",
    "            break\n",
    "        elif response.lower() =='add':\n",
    "            wholeFoods_bag.addToShoppingBag()\n",
    "        elif response.lower() ==\"show\" :\n",
    "            wholeFoods_bag.showShoppingBag()\n",
    "        else:\n",
    "            print('Try again')\n",
    "            \n",
    "\n",
    "run()"
   ]
  },
  {
   "cell_type": "markdown",
   "metadata": {},
   "source": [
    "##### Modifying an Attribute's Value Through a Method"
   ]
  },
  {
   "cell_type": "code",
   "execution_count": 4,
   "metadata": {},
   "outputs": [
    {
     "name": "stdout",
     "output_type": "stream",
     "text": [
      "Your capacity is: 20\n",
      "Capacity after the change\n",
      "Your capacity is: 40\n"
     ]
    }
   ],
   "source": [
    "wholeFoods_bag.showCapacity()\n",
    "print('Capacity after the change')\n",
    "wholeFoods_bag.changeBagCapacity(40)\n",
    "wholeFoods_bag.showCapacity()"
   ]
  },
  {
   "cell_type": "markdown",
   "metadata": {},
   "source": [
    "##### Incrementing an Attribute's Value Through a Method"
   ]
  },
  {
   "cell_type": "code",
   "execution_count": 7,
   "metadata": {},
   "outputs": [
    {
     "name": "stdout",
     "output_type": "stream",
     "text": [
      "After Increase: \n",
      "Your capacity is: 70\n"
     ]
    }
   ],
   "source": [
    "###### wholeFoods_bag.showCapacity()\n",
    "print(\"After Increase: \")\n",
    "wholeFoods_bag.increaseCapacity()\n",
    "wholeFoods_bag.showCapacity()"
   ]
  },
  {
   "cell_type": "markdown",
   "metadata": {},
   "source": [
    "##### In-Class Exercise #3 - Add a method that takes in three parameters of year, doors and seats and prints out a formatted print statement with make, model, year, seats, and doors"
   ]
  },
  {
   "cell_type": "code",
   "execution_count": 11,
   "metadata": {},
   "outputs": [
    {
     "name": "stdout",
     "output_type": "stream",
     "text": [
      "This car is from 2001 and is a Jeep Wrangler and has 2 doors and 5 seats.\n"
     ]
    }
   ],
   "source": [
    "# Create class with 2 paramters inside of the __init__ which are make and model\n",
    "\n",
    "# Inside of the Car class create a method that has 4 parameter in total (self,year,door,seats)\n",
    "\n",
    "# Output: This car is from 2019 and is a Ford Expolorer and has 4 doors and 5 seats\n",
    "\n",
    "class Car():\n",
    "    def __init__(self, make, model):\n",
    "        self.make=make\n",
    "        self.model =model\n",
    "    \n",
    "    def create(self,year,doors,seats):\n",
    "        self.year=year\n",
    "        self.doors=doors\n",
    "        self.seats=seats\n",
    "    \n",
    "    def printInfo(self):\n",
    "        print(f'This car is from {self.year} and is a {self.make} {self.model} and has {self.doors} doors and {self.seats} seats.')\n",
    "\n",
    "\n",
    "jeep= Car(\"Jeep\", \"Wrangler\")\n",
    "\n",
    "jeep.create(2001, 2, 5)\n",
    "\n",
    "jeep.printInfo()\n"
   ]
  },
  {
   "cell_type": "markdown",
   "metadata": {},
   "source": [
    "## Inheritance <br>\n",
    "<p>You can create a child-parent relationship between two classes by using inheritance. What this allows you to do is have overriding methods, but also inherit traits from the parent class. Think of it as an actual parent and child, the child will inherit the parent's genes, as will the classes in OOP</p>"
   ]
  },
  {
   "cell_type": "markdown",
   "metadata": {},
   "source": [
    "##### Syntax for Inheriting from a Parent Class"
   ]
  },
  {
   "cell_type": "code",
   "execution_count": 15,
   "metadata": {},
   "outputs": [
    {
     "name": "stdout",
     "output_type": "stream",
     "text": [
      "bark\n",
      "Make some sound\n",
      "None\n",
      "9.8\n"
     ]
    }
   ],
   "source": [
    "#Create a parent class and call is Animal\n",
    "\n",
    "class Animal():\n",
    "    acceleration = 9.8\n",
    "    \n",
    "    def __init__(self,name,species, legs=4):\n",
    "        self.name=name\n",
    "        self.species=species\n",
    "        self.legs=legs\n",
    "        \n",
    "    def makeSound(self):\n",
    "        print(\"Make some sound\")\n",
    "#This is a child class inheriting Animal class        \n",
    "class Dog(Animal):\n",
    "    speed =15\n",
    "    \n",
    "    def printInfo(self):\n",
    "        print(f'The dog has {self.speed}mph in speed and {self.acceleration} in acceleration')\n",
    "#this is a grandchild class inheriting dog which inherited animal       \n",
    "class Mutt(Dog):\n",
    "    color= \"Tan\"\n",
    "    \n",
    "    def __init__(self,name,species,eye_color,legs=4):\n",
    "        Dog.__init__(self,name,species,legs)\n",
    "        self.eye_color=eye_color\n",
    "        \n",
    "    def makeSound(self):\n",
    "        noise=\"bark\"\n",
    "        return noise\n",
    "    \n",
    "lassie=Dog(\"Lassie\",\"Dog\")\n",
    "basic_animal=Animal(\"Genic Animal Name\", \"Generic Animal Species\")\n",
    "\n",
    "buster = Mutt(\"Buster\", \"Mutt\", 'Brown')\n",
    "\n",
    "print(buster.makeSound())\n",
    "print(lassie.makeSound())\n",
    "print(buster.acceleration)"
   ]
  },
  {
   "cell_type": "markdown",
   "metadata": {},
   "source": [
    "##### The \\__init\\__() Method for a Child Class - super()"
   ]
  },
  {
   "cell_type": "code",
   "execution_count": null,
   "metadata": {
    "scrolled": true
   },
   "outputs": [],
   "source": [
    "class Puppy(Dog):\n",
    "    color= \"black and brown\"\n",
    "    \n",
    "    #override the animal class __init__ \n",
    "    \n",
    "    def __init__(self,name,species,eye_color, legs=4):\n",
    "        super().__init(name,species,legs)\n",
    "        self.eye_color=eye_color\n",
    "    \n",
    "    def makeSound(self):\n",
    "        noise=\"whimper\""
   ]
  },
  {
   "cell_type": "markdown",
   "metadata": {},
   "source": [
    "##### Defining Attributes and Methods for the Child Class"
   ]
  },
  {
   "cell_type": "code",
   "execution_count": null,
   "metadata": {},
   "outputs": [],
   "source": [
    "# See Above"
   ]
  },
  {
   "cell_type": "markdown",
   "metadata": {},
   "source": [
    "##### Method Overriding"
   ]
  },
  {
   "cell_type": "code",
   "execution_count": null,
   "metadata": {},
   "outputs": [],
   "source": [
    "# See Above"
   ]
  },
  {
   "cell_type": "markdown",
   "metadata": {},
   "source": [
    "## Classes as Attributes <br>\n",
    "<p>Classes can also be used as attributes within another class. This is useful in situations where you need to keep variables locally stored, instead of globally stored.</p>"
   ]
  },
  {
   "cell_type": "code",
   "execution_count": 19,
   "metadata": {},
   "outputs": [
    {
     "name": "stdout",
     "output_type": "stream",
     "text": [
      "20\n"
     ]
    },
    {
     "data": {
      "text/plain": [
       "'Tesla Tesla Model X 20'"
      ]
     },
     "execution_count": 19,
     "metadata": {},
     "output_type": "execute_result"
    }
   ],
   "source": [
    "class Battery():\n",
    "    volts=7.8\n",
    "    \n",
    "    def __init__(self, cells):\n",
    "        self.cells=cells\n",
    "        \n",
    "class Car():\n",
    "    def __init__ (self,year,make,model,battery):\n",
    "        self.year=year\n",
    "        self.make=make\n",
    "        self.model=model\n",
    "        self.battery=battery\n",
    "        \n",
    "    def printInfo(self):\n",
    "        return f'{self.make} {self.make} {self.model} {self.battery.cells}'\n",
    "    \n",
    "my_battery = Battery(20)\n",
    "\n",
    "tesla= Car(2019, 'Tesla', 'Model X', my_battery)\n",
    "\n",
    "print(tesla.battery.cells)\n",
    "tesla.printInfo()"
   ]
  },
  {
   "cell_type": "markdown",
   "metadata": {},
   "source": [
    "# Exercises"
   ]
  },
  {
   "cell_type": "markdown",
   "metadata": {},
   "source": [
    "### Exercise 1 - Turn the shopping cart program from yesterday into an object-oriented program\n",
    "\n",
    "The comments in the cell below are there as a guide for thinking about the problem. However, if you feel a different way is best for you and your own thought process, please do what feels best for you by all means."
   ]
  },
  {
   "cell_type": "code",
   "execution_count": 41,
   "metadata": {},
   "outputs": [
    {
     "name": "stdout",
     "output_type": "stream",
     "text": [
      "Hello jayden, Thank you for shopping with us :) \n",
      "Are you a rewards member?yes\n",
      "Here is what is in your cart: \n",
      "1 - milk $3.2\n",
      "2 - cookies $2.4000000000000004\n",
      "3 - berries $5.6000000000000005\n",
      "4 - banana $2.4000000000000004\n",
      "Here is your total: $13.600000000000001\n"
     ]
    }
   ],
   "source": [
    "# Create a class called cart that retains items and has methods to add, remove, and show\n",
    "import random\n",
    "from IPython.display import clear_output\n",
    "\n",
    "class items():\n",
    "    def __init__(self, item, price=1.00):\n",
    "        self.item = item\n",
    "        self.price = price\n",
    "    \n",
    "    def priceChange(self, price):\n",
    "        self.price=price\n",
    "    \n",
    "    def discount(self):\n",
    "        self.price*=0.80\n",
    "    \n",
    "class Cart():\n",
    "    def __init__ (self, name, capacity,storage=[], wheelsWorking=4):\n",
    "        self.wheelsWorking=wheelsWorking\n",
    "        self.capacity=capacity\n",
    "        self.storage=storage\n",
    "        self.name=name\n",
    "        \n",
    "    def addItem(self, item):\n",
    "        self.storage.append(item)\n",
    "    \n",
    "    def delItem(self, item):\n",
    "        del(self.storage[item])\n",
    "    \n",
    "    def showCart(self):\n",
    "        print(\"Here is what is in your cart: \")\n",
    "        x=1\n",
    "        total=0\n",
    "        for items in self.storage:\n",
    "            print(f'{x} - {items.item} ${items.price}')\n",
    "            total+=items.price\n",
    "            x+=1\n",
    "        print(f'Here is your total: ${total}')\n",
    "\n",
    "            \n",
    "\n",
    "\n",
    "storage=[]\n",
    "name = input(\"What is your name?\")\n",
    "shopping_cart=Cart(name,10,storage, 4)\n",
    "\n",
    "while True:\n",
    "    choice = input(\"What would you like to do? add/delete/show/quit?\")\n",
    "    clear_output()\n",
    "    if choice.lower()== \"quit\":\n",
    "        clear_output()\n",
    "        print(f\"Hello {shopping_cart.name}, Thank you for shopping with us :) \")\n",
    "        discount= input(\"Are you a rewards member?\")\n",
    "        if discount.lower()==\"yes\":\n",
    "            for items in shopping_cart.storage:\n",
    "                items.discount()\n",
    "            print(\"20% coupon applied!\")\n",
    "        shopping_cart.showCart()\n",
    "        break\n",
    "    elif choice.lower()==\"add\":\n",
    "        item = input(\"What item would you like to add? \")\n",
    "        new_item=items(item,random.randint(1,7))\n",
    "        shopping_cart.addItem(new_item)\n",
    "    elif choice.lower()==\"delete\":\n",
    "        shopping_cart.showCart()\n",
    "        item = int(input(\"What item would you like to delete? Number\"))\n",
    "        shopping_cart.delItem(item-1)\n",
    "    elif choice.lower()==\"show\":\n",
    "        shopping_cart.showCart()\n",
    "    else:\n",
    "        print(\"try again\")\n",
    "        \n",
    "\n",
    "        \n",
    "        \n",
    "\n",
    "\n",
    "    \n",
    "            \n",
    "    "
   ]
  },
  {
   "cell_type": "markdown",
   "metadata": {},
   "source": [
    "### Exercise 2 - Write a Python class which has two methods get_String and print_String. get_String accept a string from the user and print_String print the string in upper case"
   ]
  },
  {
   "cell_type": "code",
   "execution_count": 43,
   "metadata": {},
   "outputs": [
    {
     "name": "stdout",
     "output_type": "stream",
     "text": [
      "Input what you wantjayden\n",
      "JAYDEN\n"
     ]
    }
   ],
   "source": [
    "class makeString():\n",
    "    \n",
    "    def get_String(self):\n",
    "        self.string=input(\"Input what you want: \")\n",
    "        \n",
    "    def print_String(self):\n",
    "        print(self.string.upper())\n",
    "\n",
    "        \n",
    "word=makeString()\n",
    "\n",
    "word.get_String()\n",
    "\n",
    "word.print_String()"
   ]
  }
 ],
 "metadata": {
  "kernelspec": {
   "display_name": "Python 3 (ipykernel)",
   "language": "python",
   "name": "python3"
  },
  "language_info": {
   "codemirror_mode": {
    "name": "ipython",
    "version": 3
   },
   "file_extension": ".py",
   "mimetype": "text/x-python",
   "name": "python",
   "nbconvert_exporter": "python",
   "pygments_lexer": "ipython3",
   "version": "3.10.9"
  }
 },
 "nbformat": 4,
 "nbformat_minor": 2
}
